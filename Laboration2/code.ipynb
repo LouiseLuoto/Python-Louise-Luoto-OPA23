{
 "cells": [
  {
   "cell_type": "markdown",
   "metadata": {},
   "source": [
    "# Exercise 0\n",
    "a) Börja med att läsa in filen riket2023_åk9_np.xlsx och sheets för de olika ämnena. Ändra kolumnnamnen på\n",
    "respektive dataframe så du får något liknande som nedan."
   ]
  },
  {
   "cell_type": "code",
   "execution_count": 1,
   "metadata": {},
   "outputs": [],
   "source": [
    "import pandas as pd\n",
    "\n",
    "# Read file and sheets\n",
    "df_riket = pd.read_excel(\"../Laboration2/Data/riket2023_åk9_np.xlsx\", sheet_name=None, skiprows=8)\n",
    "sheets = [\"Engelska\", \"Matematik\", \"Svenska\", \"Svenska som andraspråk\"]\n",
    "\n",
    "# Function to rename column names\n",
    "def rename_columns(df):\n",
    "    df.columns = [\"Plats\", \"Huvudman\", \"Totalt (A-F)\", \"Flickor (A-F)\", \"Pojkar (A-F)\", \"Totalt (A-E)\", \"Flickor (A-E)\", \"Pojkar (A-E)\", \"Totalt (poäng)\", \"Flickor (poäng)\", \"Pojkar (poäng)\"][:len(df.columns)]\n",
    "    return df\n",
    "\n",
    "# If sheet_name is in sheets column name is changed on each sheet and DataFrame\n",
    "for sheet_name, df in df_riket.items():\n",
    "    if sheet_name in sheets:\n",
    "        df_riket[sheet_name] = rename_columns(df)"
   ]
  },
  {
   "cell_type": "markdown",
   "metadata": {},
   "source": [
    "b) Ta reda på antalet som fått F i matematik totalt, pojkar respektive flickor."
   ]
  },
  {
   "cell_type": "code",
   "execution_count": 10,
   "metadata": {},
   "outputs": [
    {
     "name": "stdout",
     "output_type": "stream",
     "text": [
      "Total number of students who received an F in mathematics: 5797\n",
      "Number of boys who received an F in mathematics: 11637\n",
      "Number of girls who received an F in mathematics: 5824\n"
     ]
    }
   ],
   "source": [
    "def calculate_f_grade(df, total_column, girls_column, boys_column):\n",
    "    # Extract percentage of girls with grades A-E\n",
    "    girls_percentage = float(str(df.iloc[0][girls_column]).replace(',', '.'))\n",
    "    # Extract total number of girls with grades A-F\n",
    "    total_girls_a_f = int(df.iloc[0][girls_column.replace('(A-E)', '(A-F)')])\n",
    "    # Calculate number of girls with grade F\n",
    "    girls_f = int((100 - girls_percentage) / 100 * total_girls_a_f)\n",
    "\n",
    "    total_percentage = float(str(df.iloc[0][total_column]).replace(',', '.'))\n",
    "    total_students_a_f = int(df.iloc[0][total_column.replace('(A-E)', '(A-F)')])\n",
    "    total_f = int((100 - total_percentage) / 100 * total_students_a_f)\n",
    "\n",
    "    boys_percentage = float(str(df.iloc[0][boys_column]).replace(',', '.'))\n",
    "    total_boys_a_f = int(df.iloc[0][boys_column.replace('(A-E)', '(A-F)')])\n",
    "    boys_f = int((100 - boys_percentage) / 100 * total_boys_a_f)\n",
    "    return girls_f, total_f, boys_f\n",
    "\n",
    "# Access the \"Matematik\" DataFrame\n",
    "df_math = df_riket[\"Matematik\"]\n",
    "\n",
    "# Calculate the number of total, boys, and girls students who received an F in mathematics\n",
    "total_f, boys_f, girls_f = calculate_f_grade(df_math, \"Totalt (A-E)\", \"Pojkar (A-E)\", \"Flickor (A-E)\")\n",
    "\n",
    "print(\"Total number of students who received an F in mathematics:\", total_f)\n",
    "print(\"Number of boys who received an F in mathematics:\", boys_f)\n",
    "print(\"Number of girls who received an F in mathematics:\", girls_f)"
   ]
  },
  {
   "cell_type": "markdown",
   "metadata": {},
   "source": [
    "c) Rita ett stapeldiagram på totala poängen för de olika ämnena."
   ]
  },
  {
   "cell_type": "code",
   "execution_count": null,
   "metadata": {},
   "outputs": [],
   "source": []
  }
 ],
 "metadata": {
  "kernelspec": {
   "display_name": "venv",
   "language": "python",
   "name": "python3"
  },
  "language_info": {
   "codemirror_mode": {
    "name": "ipython",
    "version": 3
   },
   "file_extension": ".py",
   "mimetype": "text/x-python",
   "name": "python",
   "nbconvert_exporter": "python",
   "pygments_lexer": "ipython3",
   "version": "3.11.7"
  }
 },
 "nbformat": 4,
 "nbformat_minor": 2
}
