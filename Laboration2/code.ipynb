{
 "cells": [
  {
   "cell_type": "code",
   "execution_count": 4,
   "metadata": {},
   "outputs": [
    {
     "data": {
      "text/plain": [
       "{'Engelska':    Riket Typ av huvudman  Totalt  Flickor  Pojkar  Totalt   Flickor   Pojkar   \\\n",
       " 0  Riket        Samtliga  106941    51864   55077     97.0      97.1     97.0   \n",
       " 1  Riket        Kommunal   84310    40675   43635     96.6      96.6     96.6   \n",
       " 2  Riket         Enskild   22582    11165   11417     98.7      98.8     98.7   \n",
       " 3  Riket      Skolverket      49       24      25    100.0     100.0    100.0   \n",
       " \n",
       "    Totalt    Flickor    Pojkar    \n",
       " 0      15.7       15.8      15.7  \n",
       " 1      15.4       15.5      15.4  \n",
       " 2      16.9       17.0      16.8  \n",
       " 3      18.5       18.9      18.2  ,\n",
       " 'Matematik':    Riket Typ av huvudman  Totalt  Flickor  Pojkar Totalt  Flickor  Pojkar   \\\n",
       " 0  Riket        Samtliga  106766    51548   55218    89.1     88.7    89.5   \n",
       " 1  Riket        Kommunal   84163    40386   43777    88.1     87.7    88.5   \n",
       " 2  Riket         Enskild   22553    11137   11416    92.9     92.2    93.5   \n",
       " 3  Riket      Skolverket      50       25      25    ~100     ~100    ~100   \n",
       " \n",
       "    Totalt    Flickor    Pojkar    \n",
       " 0      11.9       11.8      12.0  \n",
       " 1      11.6       11.5      11.7  \n",
       " 2      13.0       12.8      13.1  \n",
       " 3      14.1       13.5      14.7  ,\n",
       " 'Svenska':    Riket Typ av huvudman  Totalt  Flickor  Pojkar  Totalt   Flickor   Pojkar   \\\n",
       " 0  Riket        Samtliga   93225    45800   47425     96.1      97.9     94.4   \n",
       " 1  Riket        Kommunal   72771    35484   37287     95.7      97.6     93.8   \n",
       " 2  Riket         Enskild   20414    10297   10117     97.6      98.7     96.6   \n",
       " 3  Riket      Skolverket      40       19      21    100.0     100.0    100.0   \n",
       " \n",
       "    Totalt    Flickor    Pojkar    \n",
       " 0      13.6       14.5      12.7  \n",
       " 1      13.3       14.3      12.4  \n",
       " 2      14.4       15.2      13.5  \n",
       " 3      15.0       15.9      14.2  ,\n",
       " 'Svenska som andraspråk':    Riket Typ av huvudman Totalt Flickor Pojkar Totalt  Flickor  Pojkar   \\\n",
       " 0  Riket        Samtliga  14092    6447   7645    77.7     81.6    74.3   \n",
       " 1  Riket        Kommunal  11963    5495   6468    75.9       80    72.4   \n",
       " 2  Riket         Enskild   2122     949   1173    87.7     90.9    85.2   \n",
       " 3  Riket      Skolverket     ..      ..     ..      ..       ..      ..   \n",
       " \n",
       "   Totalt   Flickor   Pojkar    \n",
       " 0      9.4      10.2      8.7  \n",
       " 1        9       9.9      8.3  \n",
       " 2     11.1        12     10.4  \n",
       " 3       ..        ..       ..  ,\n",
       " 'Rapportbeskrivning och def.':    Observera att om resultatuppgiften baseras på färre än 10 elever, dubbelprickas den. Då visas två prickar (..) istället för utfall.  \\\n",
       " 0   Om antalet flickor eller pojkar är färre än 10...                                                                                    \n",
       " 1   Observera att om antalet elever med provbetyg ...                                                                                    \n",
       " 2   Om en andelsuppgift för antingen pojkar eller ...                                                                                    \n",
       " 3   Om data saknas visas en prick (.) istället för...                                                                                    \n",
       " 4                                                                                                                                        \n",
       " 5                      Antal elever med provbetyg A-F                                                                                    \n",
       " 6                                                 NaN                                                                                    \n",
       " 7                         Andel (%) med provbetyg A-E                                                                                    \n",
       " 8                                                 NaN                                                                                    \n",
       " 9                           Genomsnittlig betygspoäng                                                                                    \n",
       " 10                                                NaN                                                                                    \n",
       " 11                                                NaN                                                                                    \n",
       " 12  I svenska/svenska som andraspråk och engelska ...                                                                                    \n",
       " 13  Resultaten på de olika delarna vägs sedan samm...                                                                                    \n",
       " 14  I matematik ges inga delprovsbetyg. För att få...                                                                                    \n",
       " \n",
       "     Unnamed: 1  Unnamed: 2                                         Unnamed: 3  \n",
       " 0          NaN         NaN                                                NaN  \n",
       " 1          NaN         NaN                                                NaN  \n",
       " 2          NaN         NaN                                                NaN  \n",
       " 3          NaN         NaN                                                NaN  \n",
       " 4          NaN         NaN                                                NaN  \n",
       " 5          NaN         NaN  Antal elever som har avslutat årskurs 9 med el...  \n",
       " 6          NaN         NaN                                                NaN  \n",
       " 7          NaN         NaN  Andel elever som fått betyg A-E av dem som del...  \n",
       " 8          NaN         NaN                                                NaN  \n",
       " 9          NaN         NaN  Betygspoängen utgörs av ett genomsnitt av bety...  \n",
       " 10         NaN         NaN                                                NaN  \n",
       " 11         NaN         NaN                                                NaN  \n",
       " 12         NaN         NaN                                                NaN  \n",
       " 13         NaN         NaN                                                NaN  \n",
       " 14         NaN         NaN                                                NaN  }"
      ]
     },
     "execution_count": 4,
     "metadata": {},
     "output_type": "execute_result"
    }
   ],
   "source": [
    "import pandas as pd\n",
    "\n",
    "df_riket = pd.read_excel(\"../Laboration2/Data/riket2023_åk9_np.xlsx\", sheet_name=None, skiprows=8)\n",
    "sheets = \"Engelska\", \"Matematik\", \"Svenska\", \"Svenska som andraspråk\"\n",
    "\n",
    "df_riket"
   ]
  }
 ],
 "metadata": {
  "kernelspec": {
   "display_name": "venv",
   "language": "python",
   "name": "python3"
  },
  "language_info": {
   "codemirror_mode": {
    "name": "ipython",
    "version": 3
   },
   "file_extension": ".py",
   "mimetype": "text/x-python",
   "name": "python",
   "nbconvert_exporter": "python",
   "pygments_lexer": "ipython3",
   "version": "3.11.7"
  }
 },
 "nbformat": 4,
 "nbformat_minor": 2
}
