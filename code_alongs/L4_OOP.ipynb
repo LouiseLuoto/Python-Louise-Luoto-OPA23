{
 "cells": [
  {
   "cell_type": "markdown",
   "metadata": {},
   "source": [
    "# OOP fundamentals"
   ]
  },
  {
   "cell_type": "code",
   "execution_count": 4,
   "metadata": {},
   "outputs": [
    {
     "name": "stdout",
     "output_type": "stream",
     "text": [
      "Dunder init running\n"
     ]
    },
    {
     "data": {
      "text/plain": [
       "<__main__.Antagning at 0x17eb6bd17d0>"
      ]
     },
     "execution_count": 4,
     "metadata": {},
     "output_type": "execute_result"
    }
   ],
   "source": [
    "class Antagning:\n",
    "    # dunder init (special method) marked by double underscores on either side\n",
    "    def __init__(self, school, program, name, accept):\n",
    "        print(\"Dunder init running\")\n",
    "        self.school = school\n",
    "        self.program = program\n",
    "        self.name = name\n",
    "        self.accept = accept \n",
    "\n",
    "# instantiated av instance from the class Antagning and assigned it to student1 variable\n",
    "student1 = Antagning(\"Handelsakademin\", \"AI\", \"Gore Bord\", True)\n",
    "student1"
   ]
  },
  {
   "cell_type": "code",
   "execution_count": 7,
   "metadata": {},
   "outputs": [
    {
     "data": {
      "text/plain": [
       "('Gore Bord', True)"
      ]
     },
     "execution_count": 7,
     "metadata": {},
     "output_type": "execute_result"
    }
   ],
   "source": [
    "student1.name, student1.accept"
   ]
  },
  {
   "cell_type": "code",
   "execution_count": 9,
   "metadata": {},
   "outputs": [
    {
     "data": {
      "text/plain": [
       "'Javascript developer'"
      ]
     },
     "execution_count": 9,
     "metadata": {},
     "output_type": "execute_result"
    }
   ],
   "source": [
    "# changed the state\n",
    "student1.program = \"Javascript developer\"\n",
    "student1.program"
   ]
  },
  {
   "cell_type": "code",
   "execution_count": 11,
   "metadata": {},
   "outputs": [
    {
     "name": "stdout",
     "output_type": "stream",
     "text": [
      "Dunder init running\n"
     ]
    },
    {
     "data": {
      "text/plain": [
       "<__main__.Antagning at 0x17eb6bdca10>"
      ]
     },
     "execution_count": 11,
     "metadata": {},
     "output_type": "execute_result"
    }
   ],
   "source": [
    "student2 = Antagning(\"Handelsakademin\", \"UX\", \"Bella\", False)\n",
    "student2"
   ]
  },
  {
   "cell_type": "code",
   "execution_count": 13,
   "metadata": {},
   "outputs": [
    {
     "name": "stdout",
     "output_type": "stream",
     "text": [
      "Dunder init running\n"
     ]
    },
    {
     "data": {
      "text/plain": [
       "<__main__.Antagning at 0x17eb6c0dd50>"
      ]
     },
     "execution_count": 13,
     "metadata": {},
     "output_type": "execute_result"
    }
   ],
   "source": [
    "student3 = Antagning(\"Handelsakademin\", \"AI\", 3213, 8177278929)\n",
    "\n",
    "student3"
   ]
  },
  {
   "cell_type": "markdown",
   "metadata": {},
   "source": [
    "# \\_\\_repr\\_\\_\n",
    "\n",
    "- dunder \"repper\" - method for representing an instance"
   ]
  },
  {
   "cell_type": "code",
   "execution_count": 16,
   "metadata": {},
   "outputs": [
    {
     "name": "stdout",
     "output_type": "stream",
     "text": [
      "Dunder init running\n"
     ]
    },
    {
     "data": {
      "text/plain": [
       "Antagning(school='Handelsakademin', program='UX', name='Bella', accept=False)"
      ]
     },
     "execution_count": 16,
     "metadata": {},
     "output_type": "execute_result"
    }
   ],
   "source": [
    "class Antagning:\n",
    "    # dunder init (special method) marked by double underscores on either side\n",
    "    def __init__(self, school, program, name, accept):\n",
    "        print(\"Dunder init running\")\n",
    "        self.school = school\n",
    "        self.program = program\n",
    "        self.name = name\n",
    "        self.accept = accept\n",
    "\n",
    "    # used for other developers and yourself\n",
    "    def __repr__(self) -> str:\n",
    "        return f\"Antagning(school='{self.school}', program='{self.program}', name='{self.name}', accept={self.accept})\"\n",
    "    \n",
    "Antagning(\"Handelsakademin\", \"UX\", \"Bella\", False)"
   ]
  },
  {
   "cell_type": "markdown",
   "metadata": {},
   "source": [
    "# Encapsulation\n",
    "- in Python we have psuedo-private\n",
    "- not real private attributes"
   ]
  },
  {
   "cell_type": "code",
   "execution_count": 4,
   "metadata": {},
   "outputs": [
    {
     "ename": "AttributeError",
     "evalue": "'Patient' object has no attribute '_Patient__diagnosis'",
     "output_type": "error",
     "traceback": [
      "\u001b[1;31m---------------------------------------------------------------------------\u001b[0m",
      "\u001b[1;31mAttributeError\u001b[0m                            Traceback (most recent call last)",
      "File \u001b[1;32mc:\\NBIHandelsakademin\\Github\\Python-Louise-Luoto-OPA23\\venv\\Lib\\site-packages\\IPython\\core\\formatters.py:708\u001b[0m, in \u001b[0;36mPlainTextFormatter.__call__\u001b[1;34m(self, obj)\u001b[0m\n\u001b[0;32m    701\u001b[0m stream \u001b[38;5;241m=\u001b[39m StringIO()\n\u001b[0;32m    702\u001b[0m printer \u001b[38;5;241m=\u001b[39m pretty\u001b[38;5;241m.\u001b[39mRepresentationPrinter(stream, \u001b[38;5;28mself\u001b[39m\u001b[38;5;241m.\u001b[39mverbose,\n\u001b[0;32m    703\u001b[0m     \u001b[38;5;28mself\u001b[39m\u001b[38;5;241m.\u001b[39mmax_width, \u001b[38;5;28mself\u001b[39m\u001b[38;5;241m.\u001b[39mnewline,\n\u001b[0;32m    704\u001b[0m     max_seq_length\u001b[38;5;241m=\u001b[39m\u001b[38;5;28mself\u001b[39m\u001b[38;5;241m.\u001b[39mmax_seq_length,\n\u001b[0;32m    705\u001b[0m     singleton_pprinters\u001b[38;5;241m=\u001b[39m\u001b[38;5;28mself\u001b[39m\u001b[38;5;241m.\u001b[39msingleton_printers,\n\u001b[0;32m    706\u001b[0m     type_pprinters\u001b[38;5;241m=\u001b[39m\u001b[38;5;28mself\u001b[39m\u001b[38;5;241m.\u001b[39mtype_printers,\n\u001b[0;32m    707\u001b[0m     deferred_pprinters\u001b[38;5;241m=\u001b[39m\u001b[38;5;28mself\u001b[39m\u001b[38;5;241m.\u001b[39mdeferred_printers)\n\u001b[1;32m--> 708\u001b[0m \u001b[43mprinter\u001b[49m\u001b[38;5;241;43m.\u001b[39;49m\u001b[43mpretty\u001b[49m\u001b[43m(\u001b[49m\u001b[43mobj\u001b[49m\u001b[43m)\u001b[49m\n\u001b[0;32m    709\u001b[0m printer\u001b[38;5;241m.\u001b[39mflush()\n\u001b[0;32m    710\u001b[0m \u001b[38;5;28;01mreturn\u001b[39;00m stream\u001b[38;5;241m.\u001b[39mgetvalue()\n",
      "File \u001b[1;32mc:\\NBIHandelsakademin\\Github\\Python-Louise-Luoto-OPA23\\venv\\Lib\\site-packages\\IPython\\lib\\pretty.py:410\u001b[0m, in \u001b[0;36mRepresentationPrinter.pretty\u001b[1;34m(self, obj)\u001b[0m\n\u001b[0;32m    407\u001b[0m                         \u001b[38;5;28;01mreturn\u001b[39;00m meth(obj, \u001b[38;5;28mself\u001b[39m, cycle)\n\u001b[0;32m    408\u001b[0m                 \u001b[38;5;28;01mif\u001b[39;00m \u001b[38;5;28mcls\u001b[39m \u001b[38;5;129;01mis\u001b[39;00m \u001b[38;5;129;01mnot\u001b[39;00m \u001b[38;5;28mobject\u001b[39m \\\n\u001b[0;32m    409\u001b[0m                         \u001b[38;5;129;01mand\u001b[39;00m \u001b[38;5;28mcallable\u001b[39m(\u001b[38;5;28mcls\u001b[39m\u001b[38;5;241m.\u001b[39m\u001b[38;5;18m__dict__\u001b[39m\u001b[38;5;241m.\u001b[39mget(\u001b[38;5;124m'\u001b[39m\u001b[38;5;124m__repr__\u001b[39m\u001b[38;5;124m'\u001b[39m)):\n\u001b[1;32m--> 410\u001b[0m                     \u001b[38;5;28;01mreturn\u001b[39;00m \u001b[43m_repr_pprint\u001b[49m\u001b[43m(\u001b[49m\u001b[43mobj\u001b[49m\u001b[43m,\u001b[49m\u001b[43m \u001b[49m\u001b[38;5;28;43mself\u001b[39;49m\u001b[43m,\u001b[49m\u001b[43m \u001b[49m\u001b[43mcycle\u001b[49m\u001b[43m)\u001b[49m\n\u001b[0;32m    412\u001b[0m     \u001b[38;5;28;01mreturn\u001b[39;00m _default_pprint(obj, \u001b[38;5;28mself\u001b[39m, cycle)\n\u001b[0;32m    413\u001b[0m \u001b[38;5;28;01mfinally\u001b[39;00m:\n",
      "File \u001b[1;32mc:\\NBIHandelsakademin\\Github\\Python-Louise-Luoto-OPA23\\venv\\Lib\\site-packages\\IPython\\lib\\pretty.py:778\u001b[0m, in \u001b[0;36m_repr_pprint\u001b[1;34m(obj, p, cycle)\u001b[0m\n\u001b[0;32m    776\u001b[0m \u001b[38;5;250m\u001b[39m\u001b[38;5;124;03m\"\"\"A pprint that just redirects to the normal repr function.\"\"\"\u001b[39;00m\n\u001b[0;32m    777\u001b[0m \u001b[38;5;66;03m# Find newlines and replace them with p.break_()\u001b[39;00m\n\u001b[1;32m--> 778\u001b[0m output \u001b[38;5;241m=\u001b[39m \u001b[38;5;28;43mrepr\u001b[39;49m\u001b[43m(\u001b[49m\u001b[43mobj\u001b[49m\u001b[43m)\u001b[49m\n\u001b[0;32m    779\u001b[0m lines \u001b[38;5;241m=\u001b[39m output\u001b[38;5;241m.\u001b[39msplitlines()\n\u001b[0;32m    780\u001b[0m \u001b[38;5;28;01mwith\u001b[39;00m p\u001b[38;5;241m.\u001b[39mgroup():\n",
      "Cell \u001b[1;32mIn[4], line 7\u001b[0m, in \u001b[0;36mPatient.__repr__\u001b[1;34m(self)\u001b[0m\n\u001b[0;32m      6\u001b[0m \u001b[38;5;28;01mdef\u001b[39;00m \u001b[38;5;21m__repr__\u001b[39m(\u001b[38;5;28mself\u001b[39m):\n\u001b[1;32m----> 7\u001b[0m     \u001b[38;5;28;01mreturn\u001b[39;00m \u001b[38;5;124mf\u001b[39m\u001b[38;5;124m\"\u001b[39m\u001b[38;5;124mPatient(\u001b[39m\u001b[38;5;124m'\u001b[39m\u001b[38;5;132;01m{\u001b[39;00m\u001b[38;5;28mself\u001b[39m\u001b[38;5;241m.\u001b[39mname\u001b[38;5;132;01m}\u001b[39;00m\u001b[38;5;124m'\u001b[39m\u001b[38;5;124m, \u001b[39m\u001b[38;5;124m'\u001b[39m\u001b[38;5;132;01m{\u001b[39;00m\u001b[38;5;28;43mself\u001b[39;49m\u001b[38;5;241;43m.\u001b[39;49m\u001b[43m__diagnosis\u001b[49m\u001b[38;5;132;01m}\u001b[39;00m\u001b[38;5;124m'\u001b[39m\u001b[38;5;124m)\u001b[39m\u001b[38;5;124m\"\u001b[39m\n",
      "\u001b[1;31mAttributeError\u001b[0m: 'Patient' object has no attribute '_Patient__diagnosis'"
     ]
    }
   ],
   "source": [
    "class Patient:\n",
    "    def __init__(self, name, diagnosis) -> None:\n",
    "        self.name = name\n",
    "        self.__diagnoses = diagnosis\n",
    "\n",
    "    def __repr__(self):\n",
    "        return f\"Patient('{self.name}', '{self.__diagnosis}')\"\n",
    "    \n",
    "patient1 = Patient(\"Bella\", \"conjunctivites\")\n",
    "patient1"
   ]
  },
  {
   "cell_type": "code",
   "execution_count": 8,
   "metadata": {},
   "outputs": [
    {
     "data": {
      "text/plain": [
       "'Bella'"
      ]
     },
     "execution_count": 8,
     "metadata": {},
     "output_type": "execute_result"
    }
   ],
   "source": [
    "# we can access \"private\" attributes, but shouldn't \n",
    "patient1.name"
   ]
  },
  {
   "cell_type": "code",
   "execution_count": 10,
   "metadata": {},
   "outputs": [
    {
     "ename": "AttributeError",
     "evalue": "'Patient' object has no attribute '__diagnoses'",
     "output_type": "error",
     "traceback": [
      "\u001b[1;31m---------------------------------------------------------------------------\u001b[0m",
      "\u001b[1;31mAttributeError\u001b[0m                            Traceback (most recent call last)",
      "Cell \u001b[1;32mIn[10], line 1\u001b[0m\n\u001b[1;32m----> 1\u001b[0m \u001b[43mpatient1\u001b[49m\u001b[38;5;241;43m.\u001b[39;49m\u001b[43m__diagnoses\u001b[49m\n",
      "\u001b[1;31mAttributeError\u001b[0m: 'Patient' object has no attribute '__diagnoses'"
     ]
    }
   ],
   "source": [
    "# Two underscores gives name mangling\n",
    "patient1.__diagnoses"
   ]
  },
  {
   "cell_type": "code",
   "execution_count": 11,
   "metadata": {},
   "outputs": [
    {
     "data": {
      "text/plain": [
       "{'name': 'Bella', '_Patient__diagnoses': 'conjunctivites'}"
      ]
     },
     "execution_count": 11,
     "metadata": {},
     "output_type": "execute_result"
    }
   ],
   "source": [
    "patient1.__dict__"
   ]
  },
  {
   "cell_type": "code",
   "execution_count": 13,
   "metadata": {},
   "outputs": [
    {
     "data": {
      "text/plain": [
       "'conjunctivites'"
      ]
     },
     "execution_count": 13,
     "metadata": {},
     "output_type": "execute_result"
    }
   ],
   "source": [
    "patient1._Patient__diagnoses"
   ]
  },
  {
   "cell_type": "markdown",
   "metadata": {},
   "source": [
    "# Larger example"
   ]
  },
  {
   "cell_type": "code",
   "execution_count": 20,
   "metadata": {},
   "outputs": [
    {
     "name": "stdout",
     "output_type": "stream",
     "text": [
      "Coins in stash: 100 riksdaler, 60 skilling\n",
      "Coins in stash: 70 riksdaler, 40 skilling\n"
     ]
    }
   ],
   "source": [
    "from numbers import Number\n",
    "\n",
    "class OldCoinStash:\n",
    "    def __init__(self, owner: str) -> None:\n",
    "        self.owner = owner\n",
    "\n",
    "        # private\n",
    "        self._riksdaler = 0\n",
    "        self._skilling = 0\n",
    "\n",
    "    def deposit(self, riksdaler, skilling):\n",
    "        if not isinstance(riksdaler, Number) or not isinstance(skilling, Number):\n",
    "            raise TypeError(f\"riksdaler and skilling must be a number\")\n",
    "        \n",
    "        if riksdaler <= 0 or skilling <= 0:\n",
    "            raise ValueError(\n",
    "                f\"Not valid: You tried to deposit {riksdaler} riksdaler and {skilling} skilling\")\n",
    "        \n",
    "        self._riksdaler += riksdaler\n",
    "        self._skilling += skilling\n",
    "\n",
    "    def withdraw(self, riksdaler, skilling):\n",
    "        # left for the reader\n",
    "        # do type checking and value checking\n",
    "\n",
    "        self._riksdaler -= riksdaler\n",
    "        self._skilling -= skilling\n",
    "\n",
    "    def check_balance(self):\n",
    "        print(f\"Coins in stash: {self._riksdaler} riksdaler, {self._skilling} skilling\")\n",
    "\n",
    "stash1 = OldCoinStash(\"Ragnar Lothbroke\")\n",
    "stash1.deposit(50, 30)\n",
    "stash1.deposit(50, 30)\n",
    "stash1.check_balance()\n",
    "\n",
    "stash1.withdraw(30, 20)\n",
    "stash1.check_balance()"
   ]
  },
  {
   "cell_type": "code",
   "execution_count": 21,
   "metadata": {},
   "outputs": [
    {
     "ename": "TypeError",
     "evalue": "riksdaler and skilling must be a number",
     "output_type": "error",
     "traceback": [
      "\u001b[1;31m---------------------------------------------------------------------------\u001b[0m",
      "\u001b[1;31mTypeError\u001b[0m                                 Traceback (most recent call last)",
      "Cell \u001b[1;32mIn[21], line 1\u001b[0m\n\u001b[1;32m----> 1\u001b[0m \u001b[43mstash1\u001b[49m\u001b[38;5;241;43m.\u001b[39;49m\u001b[43mdeposit\u001b[49m\u001b[43m(\u001b[49m\u001b[38;5;124;43m\"\u001b[39;49m\u001b[38;5;124;43m50\u001b[39;49m\u001b[38;5;124;43m\"\u001b[39;49m\u001b[43m,\u001b[49m\u001b[43m \u001b[49m\u001b[38;5;124;43m\"\u001b[39;49m\u001b[38;5;124;43m30\u001b[39;49m\u001b[38;5;124;43m\"\u001b[39;49m\u001b[43m)\u001b[49m\n",
      "Cell \u001b[1;32mIn[20], line 13\u001b[0m, in \u001b[0;36mOldCoinStash.deposit\u001b[1;34m(self, riksdaler, skilling)\u001b[0m\n\u001b[0;32m     11\u001b[0m \u001b[38;5;28;01mdef\u001b[39;00m \u001b[38;5;21mdeposit\u001b[39m(\u001b[38;5;28mself\u001b[39m, riksdaler, skilling):\n\u001b[0;32m     12\u001b[0m     \u001b[38;5;28;01mif\u001b[39;00m \u001b[38;5;129;01mnot\u001b[39;00m \u001b[38;5;28misinstance\u001b[39m(riksdaler, Number) \u001b[38;5;129;01mor\u001b[39;00m \u001b[38;5;129;01mnot\u001b[39;00m \u001b[38;5;28misinstance\u001b[39m(skilling, Number):\n\u001b[1;32m---> 13\u001b[0m         \u001b[38;5;28;01mraise\u001b[39;00m \u001b[38;5;167;01mTypeError\u001b[39;00m(\u001b[38;5;124mf\u001b[39m\u001b[38;5;124m\"\u001b[39m\u001b[38;5;124mriksdaler and skilling must be a number\u001b[39m\u001b[38;5;124m\"\u001b[39m)\n\u001b[0;32m     15\u001b[0m     \u001b[38;5;28;01mif\u001b[39;00m riksdaler \u001b[38;5;241m<\u001b[39m\u001b[38;5;241m=\u001b[39m \u001b[38;5;241m0\u001b[39m \u001b[38;5;129;01mor\u001b[39;00m skilling \u001b[38;5;241m<\u001b[39m\u001b[38;5;241m=\u001b[39m \u001b[38;5;241m0\u001b[39m:\n\u001b[0;32m     16\u001b[0m         \u001b[38;5;28;01mraise\u001b[39;00m \u001b[38;5;167;01mValueError\u001b[39;00m(\n\u001b[0;32m     17\u001b[0m             \u001b[38;5;124mf\u001b[39m\u001b[38;5;124m\"\u001b[39m\u001b[38;5;124mNot valid: You tried to deposit \u001b[39m\u001b[38;5;132;01m{\u001b[39;00mriksdaler\u001b[38;5;132;01m}\u001b[39;00m\u001b[38;5;124m riksdaler and \u001b[39m\u001b[38;5;132;01m{\u001b[39;00mskilling\u001b[38;5;132;01m}\u001b[39;00m\u001b[38;5;124m skilling\u001b[39m\u001b[38;5;124m\"\u001b[39m)\n",
      "\u001b[1;31mTypeError\u001b[0m: riksdaler and skilling must be a number"
     ]
    }
   ],
   "source": [
    "stash1.deposit(\"50\", \"30\")"
   ]
  },
  {
   "cell_type": "markdown",
   "metadata": {},
   "source": [
    "# Property\n",
    "difference between other languages\n",
    "- Python has dot-syntax for both getter and setter\n",
    "- e.g. student1.name -> getter,\n",
    "- student1.name = \"Hanna -> setter\n"
   ]
  },
  {
   "cell_type": "code",
   "execution_count": 31,
   "metadata": {},
   "outputs": [
    {
     "name": "stdout",
     "output_type": "stream",
     "text": [
      "property 'name' of 'Student' object has no setter\n",
      "Bella\n",
      "Age must be between 0 and 125, not 255.0\n"
     ]
    },
    {
     "data": {
      "text/plain": [
       "55.0"
      ]
     },
     "execution_count": 31,
     "metadata": {},
     "output_type": "execute_result"
    }
   ],
   "source": [
    "from numbers import Number\n",
    "\n",
    "class Student:\n",
    "    \"\"\"Student class for representing with name, age, active\"\"\"\n",
    "\n",
    "    def __init__(self, name: str, age: int, active: bool) -> None:\n",
    "        self._name = name\n",
    "        self.age = age\n",
    "        self._active = active\n",
    "\n",
    "    # decorator -> changes a function to give it extra functionality\n",
    "    @property\n",
    "    def name(self):     # getter\n",
    "        \"\"\"Read-only property, can't set name\"\"\"\n",
    "        return self._name\n",
    "    \n",
    "    @property\n",
    "    def age(self):\n",
    "        return self._age\n",
    "    \n",
    "    @age.setter\n",
    "    def age(self, value: float):\n",
    "        \"\"\"Setter for age with error handling\"\"\"\n",
    "\n",
    "        # validation codes\n",
    "        value = float(value)\n",
    "\n",
    "        if not isinstance(value, Number):\n",
    "            raise TypeError(f\"Age must be a number not {type(value)}\")\n",
    "        \n",
    "        if not (0<=value<=125):\n",
    "            raise ValueError(f\"Age must be between 0 and 125, not {value}\")\n",
    "\n",
    "        # logics\n",
    "        self._age = value\n",
    "\n",
    "student1 = Student(\"Bella\", 2, True)\n",
    "try:\n",
    "    student1.name = \"Gore Bord\"\n",
    "except AttributeError as err:\n",
    "    print(err)\n",
    "\n",
    "print(student1.name)\n",
    "\n",
    "try:\n",
    "    student1.age = 255\n",
    "except ValueError as err:\n",
    "    print(err)\n",
    "\n",
    "student1.age = 55\n",
    "student1.age"
   ]
  }
 ],
 "metadata": {
  "kernelspec": {
   "display_name": "venv",
   "language": "python",
   "name": "python3"
  },
  "language_info": {
   "codemirror_mode": {
    "name": "ipython",
    "version": 3
   },
   "file_extension": ".py",
   "mimetype": "text/x-python",
   "name": "python",
   "nbconvert_exporter": "python",
   "pygments_lexer": "ipython3",
   "version": "3.11.7"
  }
 },
 "nbformat": 4,
 "nbformat_minor": 2
}
