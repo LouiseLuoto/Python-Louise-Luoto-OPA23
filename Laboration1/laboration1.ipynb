{
 "cells": [
  {
   "cell_type": "code",
   "execution_count": 5,
   "metadata": {},
   "outputs": [],
   "source": [
    "pichu_path = \"../data/pichu.txt\"\n",
    "pikachu_path = \"../data/pikachu.txt\"\n",
    "points_path = \"../data/test_points.txt\"\n",
    "\n",
    "with open(pichu_path, \"r\") as pichu_file, open(pikachu_path, \"r\") as pikachu_file, open(points_path, \"r\") as points_file:\n",
    "    pichu_data = pichu_file.read()\n",
    "    pikachu_data = pikachu_file.read()\n",
    "    points_data = points_file.read()"
   ]
  },
  {
   "cell_type": "code",
   "execution_count": null,
   "metadata": {},
   "outputs": [],
   "source": [
    "import re\n",
    "\n"
   ]
  }
 ],
 "metadata": {
  "kernelspec": {
   "display_name": "venv",
   "language": "python",
   "name": "python3"
  },
  "language_info": {
   "codemirror_mode": {
    "name": "ipython",
    "version": 3
   },
   "file_extension": ".py",
   "mimetype": "text/x-python",
   "name": "python",
   "nbconvert_exporter": "python",
   "pygments_lexer": "ipython3",
   "version": "3.11.7"
  }
 },
 "nbformat": 4,
 "nbformat_minor": 2
}
