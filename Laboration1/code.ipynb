{
 "cells": [
  {
   "cell_type": "code",
   "execution_count": 11,
   "metadata": {},
   "outputs": [],
   "source": [
    "# List of referense: w3schools, chatGPT\n",
    "import numpy as np\n",
    "\n",
    "def clean_data(text_path):\n",
    "    cleaned_data = []\n",
    "    with open(text_path, \"r\") as file:\n",
    "        next(file)\n",
    "        for line in file:\n",
    "            # split the row by the comma to separate the decimal number\n",
    "            numbers = line.strip().strip('()').split(',')\n",
    "            # convert from string to float and create a numpy-array\n",
    "            clean_numbers = np.array([float(number) for number in numbers])\n",
    "            cleaned_data.append(clean_numbers)\n",
    "    return cleaned_data\n",
    "\n",
    "pichu_data = np.array(clean_data(\"pichu.txt\")[1:])\n",
    "pikachu_data = np.array(clean_data(\"pikachu.txt\")[1:])"
   ]
  },
  {
   "cell_type": "code",
   "execution_count": 4,
   "metadata": {},
   "outputs": [],
   "source": [
    "import matplotlib.pyplot as plt\n",
    "\n",
    "#def plot_data(data, label):\n",
    "    # Extrahera x- och y-kordinaterna från datan\n",
    " #   x = [float(row[0])for row in data]\n",
    "  #  y = [float(row[1]for row in data)]\n",
    "\n",
    "   # plt.scatter(x, y, label = label)\n",
    "\n",
    "#plot_data(pichu_data, label = \"Pichu\")\n",
    "#plot_data(pikachu_data, label = \"Pikachu\")\n",
    "\n",
    "#plt.show()"
   ]
  }
 ],
 "metadata": {
  "kernelspec": {
   "display_name": "venv",
   "language": "python",
   "name": "python3"
  },
  "language_info": {
   "codemirror_mode": {
    "name": "ipython",
    "version": 3
   },
   "file_extension": ".py",
   "mimetype": "text/x-python",
   "name": "python",
   "nbconvert_exporter": "python",
   "pygments_lexer": "ipython3",
   "version": "3.11.7"
  }
 },
 "nbformat": 4,
 "nbformat_minor": 2
}
