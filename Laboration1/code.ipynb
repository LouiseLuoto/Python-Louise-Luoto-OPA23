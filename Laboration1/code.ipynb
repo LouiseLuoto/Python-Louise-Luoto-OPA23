{
 "cells": [
  {
   "cell_type": "markdown",
   "metadata": {},
   "source": [
    "# Basic task\n",
    "List of referense: w3schools, chatGPT, google and worked with classmates"
   ]
  },
  {
   "cell_type": "code",
   "execution_count": 2,
   "metadata": {},
   "outputs": [
    {
     "name": "stdout",
     "output_type": "stream",
     "text": [
      "Testpoint 1: Closest point is index 95 with distance 1.8304663206363925\n",
      "- It's a Pikachu!\n",
      "\n",
      "Testpoint 2: Closest point is index 43 with distance 11.652774129430805\n",
      "- It's a Pichu!\n",
      "\n",
      "Testpoint 3: Closest point is index 23 with distance 3.686062473303827\n",
      "- It's a Pichu!\n",
      "\n",
      "Testpoint 4: Closest point is index 96 with distance 1.586203468458903\n",
      "- It's a Pikachu!\n",
      "\n"
     ]
    }
   ],
   "source": [
    "import numpy as np\n",
    "\n",
    "\n",
    "# Clean files\n",
    "def clean_data(text_path, label):\n",
    "    cleaned_data = []\n",
    "    with open(text_path, \"r\") as file:\n",
    "        next(file)\n",
    "        for line in file:\n",
    "            # Split the row by the comma to separate the decimal number\n",
    "            numbers = line.strip().strip('()').split(',')\n",
    "            # Convert from string to float and create a numpy-array\n",
    "            clean_numbers = np.array([float(number) for number in numbers])\n",
    "            # Add cleaned numbers and label to the list cleaned_data\n",
    "            cleaned_data.append([clean_numbers, label])\n",
    "    return cleaned_data\n",
    "\n",
    "\n",
    "# Load and process\n",
    "# After the file is cleaned by the above function the label 0/1 is added\n",
    "pichu_data = clean_data(\"pichu.txt\", 0)[1:]\n",
    "pikachu_data = clean_data(\"pikachu.txt\", 1)[1:]\n",
    "\n",
    "# Extract numbers and labels and creates numpy-arrays\n",
    "pichu_numbers = np.array([data[0] for data in pichu_data])\n",
    "pichu_labels = np.array([data[1] for data in pichu_data])\n",
    "pikachu_numbers = np.array([data[0] for data in pikachu_data])\n",
    "pikachu_labels = np.array([data[1] for data in pikachu_data])\n",
    "\n",
    "# Put numbers and labels side by side\n",
    "pichu_data = np.column_stack((pichu_numbers, pichu_labels))\n",
    "pikachu_data = np.column_stack((pikachu_numbers, pikachu_labels))\n",
    "\n",
    "# Combine Pichu and Pikachu at axis=0 with a label\n",
    "combined_data = np.concatenate((pichu_data, pikachu_data), axis=0)\n",
    "\n",
    "\n",
    "# Read test_points\n",
    "with open(\"test_points.txt\", \"r\") as file:\n",
    "    test_data = file.read()\n",
    "# Suggestion from Kokchun\n",
    "# eval is used to convert string to tuples \n",
    "# f\"[{test_data}]\" to create square brackets before eval\n",
    "test_data = eval(f\"[{test_data}]\")\n",
    "\n",
    "\n",
    "# Distance between test_points and combined_points\n",
    "for i, test_point in enumerate(test_data):\n",
    "    # Distance between current test_point and combined_data \n",
    "    # With the help of euclidean distance\n",
    "    distances = np.sqrt((combined_data[:,0] - test_point[0])**2 + (combined_data[:,1] - test_point[1])**2)\n",
    "    # The index with minimun distance to current test_point\n",
    "    index = np.argmin(distances)\n",
    "    print(f\"Testpoint {i+1}: Closest point is index {index} with distance {distances[index]}\")\n",
    "    correct_pokemon = combined_data[index][2]\n",
    "    if correct_pokemon == 0:\n",
    "        print(f\"- It's a Pichu!\\n\")\n",
    "    else:\n",
    "        print(f\"- It's a Pikachu!\\n\")"
   ]
  },
  {
   "cell_type": "code",
   "execution_count": 14,
   "metadata": {},
   "outputs": [
    {
     "data": {
      "image/png": "[encoded data removed]",
      "text/plain": [
       "<Figure size 640x480 with 1 Axes>"
      ]
     },
     "metadata": {},
     "output_type": "display_data"
    }
   ],
   "source": [
    "import matplotlib.pyplot as plt\n",
    "\n",
    "# Plotting\n",
    "def plot_data(data, label):\n",
    "    # Extract x and y from the data\n",
    "    x = [float(row[0]) for row in data]\n",
    "    y = [float(row[1]) for row in data]\n",
    "\n",
    "    # Plot x and y. Label marks the different data\n",
    "    plt.scatter(x, y, label=label)\n",
    "\n",
    "# Specify the correct label for each data\n",
    "plot_data(pichu_data, label=\"Pichu\")\n",
    "plot_data(pikachu_data, label=\"Pikachu\")\n",
    "\n",
    "plt.legend()\n",
    "plt.xlabel(\"Width\")\n",
    "plt.ylabel(\"Height\")\n",
    "plt.show()"
   ]
  },
  {
   "cell_type": "markdown",
   "metadata": {},
   "source": [
    "# Exercise 1"
   ]
  },
  {
   "cell_type": "code",
   "execution_count": 13,
   "metadata": {},
   "outputs": [
    {
     "name": "stdout",
     "output_type": "stream",
     "text": [
      "\n",
      "Closest point is index 97 with distance 2.067557735867901\n",
      "It's a Pikachu!\n"
     ]
    }
   ],
   "source": [
    "def get_test_point():\n",
    "    while True:\n",
    "        try:\n",
    "            x = float(input(\"Enter x-coordinate of the test point: \"))\n",
    "            y = float(input(\"Enter y-coordinate of the test point: \"))\n",
    "            if x < 0 or y < 0:\n",
    "                raise ValueError(\"Coordinates cannot be negative.\")\n",
    "            return (x, y)\n",
    "        except ValueError as err:\n",
    "            print(err)\n",
    "            print(\"Please enter valid numerical coordinates.\")\n",
    "        except:\n",
    "            print(\"An unexpected error occurred. Please try again.\")\n",
    "\n",
    "# Read test_point\n",
    "test_point = get_test_point()\n",
    "\n",
    "# Distance between test_point and combined_points\n",
    "distances = np.sqrt((combined_data[:,0] - test_point[0])**2 + (combined_data[:,1] - test_point[1])**2)\n",
    "# Index with minimum distance to current test_point\n",
    "index = np.argmin(distances)\n",
    "print(f\"\\nClosest point is index {index} with distance {distances[index]}\")\n",
    "correct_pokemon = combined_data[index][2]\n",
    "if correct_pokemon == 0:\n",
    "    print(\"It's a Pichu!\")\n",
    "else:\n",
    "    print(\"It's a Pikachu!\")"
   ]
  },
  {
   "cell_type": "markdown",
   "metadata": {},
   "source": [
    "# Exercise 2"
   ]
  },
  {
   "cell_type": "code",
   "execution_count": 12,
   "metadata": {},
   "outputs": [
    {
     "name": "stdout",
     "output_type": "stream",
     "text": [
      "Testpoint 1: It's a Pikachu!\n",
      "Testpoint 2: It's a Pichu!\n",
      "Testpoint 3: It's a Pichu!\n",
      "Testpoint 4: It's a Pikachu!\n"
     ]
    }
   ],
   "source": [
    "results = []\n",
    "for i, test_point in enumerate(test_data):\n",
    "    distances = np.sqrt((combined_data[:, 0] - test_point[0])**2 + (combined_data[:, 1] - test_point[1])**2)\n",
    "    # 5 first index with minimum distance to current test_point\n",
    "    closest_index = np.argsort(distances)[:5]\n",
    "    # 2 = labels from combined_data. 5 closest points are closest_index\n",
    "    nearest_labels = combined_data[closest_index, 2]\n",
    "    # Dictionary to count the closest labels\n",
    "    label_counts = {}\n",
    "    for label in nearest_labels:\n",
    "        # If label exists in dictionary increase by 1\n",
    "        # If not add with 1\n",
    "        label_counts[label] = label_counts.get(label, 0) + 1\n",
    "    # Use max to find the key with largest value\n",
    "    majority_class = max(label_counts, key=label_counts.get)\n",
    "    if majority_class == 0:\n",
    "        print(f\"Testpoint {i+1}: It's a Pichu!\")\n",
    "    else:\n",
    "        print(f\"Testpoint {i+1}: It's a Pikachu!\")\n",
    "    results.append((i, majority_class))"
   ]
  }
 ],
 "metadata": {
  "kernelspec": {
   "display_name": "venv",
   "language": "python",
   "name": "python3"
  },
  "language_info": {
   "codemirror_mode": {
    "name": "ipython",
    "version": 3
   },
   "file_extension": ".py",
   "mimetype": "text/x-python",
   "name": "python",
   "nbconvert_exporter": "python",
   "pygments_lexer": "ipython3",
   "version": "3.11.7"
  }
 },
 "nbformat": 4,
 "nbformat_minor": 2
}
