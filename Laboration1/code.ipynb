{
 "cells": [
  {
   "cell_type": "code",
   "execution_count": 9,
   "metadata": {},
   "outputs": [],
   "source": [
    "# List of referense: w3schools, chatGPT\n",
    "def clean_data(text_path):\n",
    "    cleaned_data = []\n",
    "    with open(text_path, \"r\") as file:\n",
    "        next(file)\n",
    "        for line in file:\n",
    "            # split the row by the comma to separate the decimal number\n",
    "            numbers = line.strip().strip('()').split(',')\n",
    "            # convert from string to float\n",
    "            new_numbers = [\"{:.6f}\".format(float(number)) for number in numbers]\n",
    "            cleaned_data.append(new_numbers)\n",
    "    return cleaned_data\n",
    "\n",
    "pichu_data = clean_data(\"pichu.txt\")\n",
    "pikachu_data = clean_data(\"pikachu.txt\")\n",
    "\n",
    "def data_to_file(data, file_path):\n",
    "    with open(file_path,\"w\") as file:\n",
    "            for row in data:\n",
    "                cleaned_text_str = \", \".join(row)\n",
    "                file.write(cleaned_text_str + \"\\n\")\n",
    "\n",
    "data_to_file(pichu_data, \"pichu.txt\")\n",
    "data_to_file(pikachu_data, \"pikachu.txt\")"
   ]
  },
  {
   "cell_type": "code",
   "execution_count": 5,
   "metadata": {},
   "outputs": [],
   "source": []
  }
 ],
 "metadata": {
  "kernelspec": {
   "display_name": "venv",
   "language": "python",
   "name": "python3"
  },
  "language_info": {
   "codemirror_mode": {
    "name": "ipython",
    "version": 3
   },
   "file_extension": ".py",
   "mimetype": "text/x-python",
   "name": "python",
   "nbconvert_exporter": "python",
   "pygments_lexer": "ipython3",
   "version": "3.11.7"
  }
 },
 "nbformat": 4,
 "nbformat_minor": 2
}
