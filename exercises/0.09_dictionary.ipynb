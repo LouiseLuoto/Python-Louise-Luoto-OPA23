{
 "cells": [
  {
   "cell_type": "markdown",
   "metadata": {},
   "source": [
    "# Dictionary"
   ]
  },
  {
   "cell_type": "markdown",
   "metadata": {},
   "source": [
    "# 0. Curriculum\n",
    " - Create a dictionary containing all the courses that you will study in this program, \n",
    " - with the course names as keys and the amount of points as value. Then calculate the \n",
    " - number of points that you will study in total."
   ]
  },
  {
   "cell_type": "code",
   "execution_count": 5,
   "metadata": {},
   "outputs": [
    {
     "name": "stdout",
     "output_type": "stream",
     "text": [
      "80\n"
     ]
    }
   ],
   "source": [
    "courses = [\n",
    "    {\"course\": \"OOP-grund\", \"points\": 30},\n",
    "    {\"course\": \"agilt\", \"points\": 30},\n",
    "    {\"course\": \"databaser\", \"points\": 20}\n",
    "]\n",
    "\n",
    "sum_ = sum(course[\"points\"] for course in courses)\n",
    "\n",
    "print(sum_)"
   ]
  },
  {
   "cell_type": "code",
   "execution_count": 8,
   "metadata": {},
   "outputs": [
    {
     "name": "stdout",
     "output_type": "stream",
     "text": [
      "65\n"
     ]
    }
   ],
   "source": [
    "course1 = dict(course = \"OOP-grund\", points = 30)\n",
    "course2 = dict(course = \"agilt\", points = 15)\n",
    "course3 = dict(course = \"databaser\", points = 20)\n",
    "\n",
    "sum1 = course1[\"points\"] + course2[\"points\"] + course3[\"points\"]\n",
    "print(sum1)"
   ]
  }
 ],
 "metadata": {
  "kernelspec": {
   "display_name": "venv",
   "language": "python",
   "name": "python3"
  },
  "language_info": {
   "codemirror_mode": {
    "name": "ipython",
    "version": 3
   },
   "file_extension": ".py",
   "mimetype": "text/x-python",
   "name": "python",
   "nbconvert_exporter": "python",
   "pygments_lexer": "ipython3",
   "version": "3.11.7"
  }
 },
 "nbformat": 4,
 "nbformat_minor": 2
}
