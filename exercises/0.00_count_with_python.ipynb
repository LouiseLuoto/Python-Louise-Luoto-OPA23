{
 "cells": [
  {
   "cell_type": "markdown",
   "metadata": {},
   "source": [
    "0. Pythagorean theorem\n",
    "- a) A right angled triangle has the catheti: a = 3 and b = 4 length units. Compute the hypothenuse of the triangle."
   ]
  },
  {
   "cell_type": "code",
   "execution_count": 10,
   "metadata": {},
   "outputs": [
    {
     "name": "stdout",
     "output_type": "stream",
     "text": [
      "5.0\n"
     ]
    }
   ],
   "source": [
    "import math\n",
    "\n",
    "a = 3\n",
    "b = 4\n",
    "\n",
    "c = a**2 + b**2\n",
    "c = math.sqrt(c)\n",
    "\n",
    "print(c)"
   ]
  },
  {
   "cell_type": "markdown",
   "metadata": {},
   "source": [
    "- b) A right angled triangle has hypothenuse c = 7.0 and a cathetus a = 5.0 length units. Compute the other cathetus and round to one decimal."
   ]
  },
  {
   "cell_type": "code",
   "execution_count": 20,
   "metadata": {},
   "outputs": [
    {
     "name": "stdout",
     "output_type": "stream",
     "text": [
      "The other cathetus b is: 4.9\n"
     ]
    }
   ],
   "source": [
    "a = 5\n",
    "c = 7\n",
    "\n",
    "b =  math.sqrt(c**2 - a**2)\n",
    "cathetus = round(b, 1)\n",
    "\n",
    "print(f\"The other cathetus b is: {cathetus}\")"
   ]
  },
  {
   "cell_type": "markdown",
   "metadata": {},
   "source": [
    "2. Classification accuracy\n",
    "- A machine learning algorithm has been trained to predict whether or not it would rain the next day. Out of 365 predictions, it got 300 correct, compute the accuracy of this model."
   ]
  },
  {
   "cell_type": "code",
   "execution_count": 21,
   "metadata": {},
   "outputs": [
    {
     "name": "stdout",
     "output_type": "stream",
     "text": [
      " 82.19%\n"
     ]
    }
   ],
   "source": [
    "predictions = 365\n",
    "correct = 300\n",
    "\n",
    "accuracy = correct / predictions\n",
    "\n",
    "print(f\"{accuracy: .2%}\")"
   ]
  },
  {
   "cell_type": "markdown",
   "metadata": {},
   "source": [
    "3. Classification accuracy\n",
    "- A machine learning model has been trained to detect fire. Here is the result of its predictions:\n",
    "\n",
    "- True Positive (TP)\n",
    "Reality: fire\n",
    "Predicted: fire\n",
    "Number of TP: 2\n",
    "\n",
    "- False Positive (FP)\n",
    "Reality: no fire\n",
    "Predicted: fire\n",
    "Number of FP: 2\n",
    "\n",
    "- False Negative (FN)\n",
    "Reality: fire\n",
    "Predicted: no fire\n",
    "Number of FN: 11\n",
    "\n",
    "- True Negative (TN)\n",
    "Reality: no fire\n",
    "Predicted: no fire\n",
    "Number of TN: 985\n",
    "\n",
    "\n",
    "- Calculated the accuracy using the following formula:\n",
    "- accuracy = TP + TN = TP + TN + FP + FN\n",
    "- Is this a good model? Discuss with a friend."
   ]
  },
  {
   "cell_type": "code",
   "execution_count": 22,
   "metadata": {},
   "outputs": [
    {
     "data": {
      "text/plain": [
       "0.987"
      ]
     },
     "execution_count": 22,
     "metadata": {},
     "output_type": "execute_result"
    }
   ],
   "source": [
    "TP = 2\n",
    "FP = 2\n",
    "FN = 11\n",
    "TN = 985\n",
    "\n",
    "acc = (TP + TN) / (TP + TN + FP + FN)\n",
    "acc"
   ]
  }
 ],
 "metadata": {
  "kernelspec": {
   "display_name": "venv",
   "language": "python",
   "name": "python3"
  },
  "language_info": {
   "codemirror_mode": {
    "name": "ipython",
    "version": 3
   },
   "file_extension": ".py",
   "mimetype": "text/x-python",
   "name": "python",
   "nbconvert_exporter": "python",
   "pygments_lexer": "ipython3",
   "version": "3.11.7"
  }
 },
 "nbformat": 4,
 "nbformat_minor": 2
}
